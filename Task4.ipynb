{
 "cells": [
  {
   "cell_type": "code",
   "execution_count": 1,
   "id": "37a8ac1c-5c11-421b-a4ae-ddda49b6e554",
   "metadata": {},
   "outputs": [],
   "source": [
    "import pandas as pd\n",
    "import numpy as np\n",
    "import re\n"
   ]
  },
  {
   "cell_type": "code",
   "execution_count": 2,
   "id": "55669532-1e24-4c3e-b773-84c2232be8bb",
   "metadata": {},
   "outputs": [],
   "source": [
    "# function to parse the salary string\n",
    "def parse_salary(salary_str):\n",
    "    if not isinstance(salary_str, str):\n",
    "        return np.nan\n",
    "    salary_str = salary_str.replace('$', '').replace('K', '')\n",
    "    numbers = re.findall(r'\\d+', salary_str)\n",
    "    \n",
    "    if numbers:\n",
    "        return int(numbers[0]) * 1000\n",
    "    return np.nan\n",
    "\n",
    "#function to parse the experience string\n",
    "def parse_experience(experience_str):\n",
    "    if not isinstance(experience_str, str):\n",
    "        return np.nan\n",
    "    numbers = re.findall(r'\\d+', experience_str)\n",
    "    if numbers:\n",
    "        return int(numbers[0])\n",
    "    return np.nan\n"
   ]
  },
  {
   "cell_type": "code",
   "execution_count": 3,
   "id": "cc49e650-f903-4914-9888-e94657765b5c",
   "metadata": {},
   "outputs": [],
   "source": [
    "try:\n",
    "    df = pd.read_csv('job_descriptions.csv')\n",
    "except FileNotFoundError:\n",
    "    print(\"Error: The file 'job_data.csv' was not found. Please check the file path.\")\n",
    "    exit()"
   ]
  },
  {
   "cell_type": "code",
   "execution_count": null,
   "id": "769c6e9d-9a53-4a9c-954b-cb9810f88c45",
   "metadata": {},
   "outputs": [],
   "source": [
    "# data cleaning and parsing\n",
    "df['latitude'] = pd.to_numeric(df['latitude'], errors='coerce')\n",
    "df['Company Size'] = pd.to_numeric(df['Company Size'], errors='coerce')\n",
    "df['Salary Range'] = df['Salary Range'].apply(parse_salary)\n",
    "df['Experience'] = df['Experience'].apply(parse_experience)\n",
    "df['Job Posting Date'] = pd.to_datetime(df['Job Posting Date'], errors='coerce')\n",
    "df.dropna(subset=['Experience', 'Salary Range', 'Company Size', 'latitude', 'Job Posting Date'], inplace=True)"
   ]
  },
  {
   "cell_type": "code",
   "execution_count": 5,
   "id": "a44e1231-c8e3-47b3-bbed-349cb2c75675",
   "metadata": {},
   "outputs": [],
   "source": [
    "# List of African countries\n",
    "african_countries = [\n",
    "    'Algeria', 'Angola', 'Benin', 'Botswana', 'Burkina Faso', 'Burundi', 'Cabo Verde', 'Cameroon', 'Central African Republic',\n",
    "    'Chad', 'Comoros', 'Congo', 'Democratic Republic of the Congo', 'Cote d\\'Ivoire', 'Djibouti', 'Egypt', 'Equatorial Guinea',\n",
    "    'Eritrea', 'Eswatini', 'Ethiopia', 'Gabon', 'Gambia', 'Ghana', 'Guinea', 'Guinea-Bissau', 'Kenya', 'Lesotho', 'Liberia',\n",
    "    'Libya', 'Madagascar', 'Malawi', 'Mali', 'Mauritania', 'Mauritius', 'Morocco', 'Mozambique', 'Namibia', 'Niger', 'Nigeria',\n",
    "    'Rwanda', 'Sao Tome and Principe', 'Senegal', 'Seychelles', 'Sierra Leone', 'Somalia', 'South Africa', 'South Sudan',\n",
    "    'Sudan', 'Tanzania', 'Togo', 'Tunisia', 'Uganda', 'Zambia', 'Zimbabwe'\n",
    "]\n"
   ]
  },
  {
   "cell_type": "code",
   "execution_count": null,
   "id": "a63808cb-2501-4209-8b87-2f838e822788",
   "metadata": {},
   "outputs": [],
   "source": [
    "#  Qualification (B.Tech, M.Tech, or PhD)\n",
    "df_filtered = df[df['Qualifications'].str.contains('B.tech|M.tech|PhD', case=False, na=False)]\n",
    "\n",
    "# Filter for work type 'Full time'\n",
    "df_filtered = df_filtered[df_filtered['Work Type'] == 'Full-Time']\n",
    "\n",
    "# Filter for African countries\n",
    "df_filtered = df_filtered[df_filtered['Country'].isin(african_countries)]\n",
    "\n",
    "# Filter for Job title starting with 'D'\n",
    "# This is the corrected line to fix the error\n",
    "df_filtered = df_filtered[df_filtered['Job Title'].str.lower().str.startswith('d')]\n",
    "\n",
    "# Filter for preference 'Male'\n",
    "df_filtered = df_filtered[df_filtered['Preference'] == 'Male']\n",
    "\n",
    "#  Filter for company size > 80,000\n",
    "df_filtered = df_filtered[df_filtered['Company Size'] > 80000]\n",
    "\n",
    "# Filter for contact person starting with 'A'\n",
    "df_filtered = df_filtered[df_filtered['Contact Person'].str.startswith('A', na=False)]\n",
    "\n",
    "# Filter for job portal 'indeed'\n",
    "df_filtered = df_filtered[df_filtered['Job Portal'] == 'indeed']\n",
    "\n",
    "\n",
    "output_file = 'task4_filtered_data.csv'\n",
    "df_filtered.to_csv(output_file, index=False)\n",
    "\n",
    "print(f\"Filtered data for Task 4 has been saved to {output_file}\")\n",
    "print(f\"Number of rows in output file: {len(df_filtered)}\")"
   ]
  }
 ],
 "metadata": {
  "kernelspec": {
   "display_name": "Python [conda env:base] *",
   "language": "python",
   "name": "conda-base-py"
  },
  "language_info": {
   "codemirror_mode": {
    "name": "ipython",
    "version": 3
   },
   "file_extension": ".py",
   "mimetype": "text/x-python",
   "name": "python",
   "nbconvert_exporter": "python",
   "pygments_lexer": "ipython3",
   "version": "3.13.5"
  }
 },
 "nbformat": 4,
 "nbformat_minor": 5
}
