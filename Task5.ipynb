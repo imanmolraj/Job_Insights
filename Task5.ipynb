{
 "cells": [
  {
   "cell_type": "code",
   "execution_count": 1,
   "id": "2e2089f5-991a-4916-9e29-1edf16f6c16a",
   "metadata": {},
   "outputs": [],
   "source": [
    "import pandas as pd\n",
    "import numpy as np\n",
    "import re"
   ]
  },
  {
   "cell_type": "code",
   "execution_count": null,
   "id": "f5f3463a-ae39-43cf-b53e-23ea3549ff6c",
   "metadata": {},
   "outputs": [],
   "source": [
    "# Define parsing functions \n",
    "def parse_salary(salary_str):\n",
    "    if not isinstance(salary_str, str):\n",
    "        return np.nan\n",
    "    salary_str = salary_str.replace('$', '').replace('K', '')\n",
    "    numbers = re.findall(r'\\d+', salary_str)\n",
    "    if numbers:\n",
    "        return int(numbers[0]) * 1000\n",
    "    return np.nan\n",
    "\n",
    "def parse_experience(experience_str):\n",
    "    if not isinstance(experience_str, str):\n",
    "        return np.nan\n",
    "    numbers = re.findall(r'\\d+', experience_str)\n",
    "    if numbers:\n",
    "        return int(numbers[0])\n",
    "    return np.nan"
   ]
  },
  {
   "cell_type": "code",
   "execution_count": null,
   "id": "a95c18bb-e1a6-439e-a75e-e47fbb7129c6",
   "metadata": {},
   "outputs": [],
   "source": [
    "try:\n",
    "    df = pd.read_csv('job_descriptions.csv')\n",
    "    print(f\"Original dataset size: {len(df)} rows\")\n",
    "except FileNotFoundError:\n",
    "    print(\"Error: The file 'job_data.csv' was not found. Please check the file path.\")\n",
    "    exit()"
   ]
  },
  {
   "cell_type": "code",
   "execution_count": null,
   "id": "4c77cdb8-d543-44e4-99c8-dfac035bea60",
   "metadata": {},
   "outputs": [],
   "source": [
    "# data cleaning and parsing\n",
    "df['Experience'] = df['Experience'].apply(parse_experience)\n",
    "df['Salary Range'] = df['Salary Range'].apply(parse_salary)\n",
    "df['Job Posting Date'] = pd.to_datetime(df['Job Posting Date'], errors='coerce')\n",
    "df.dropna(subset=['Experience', 'Salary Range', 'Job Posting Date'], inplace=True)\n",
    "print(f\"Dataset size after cleaning: {len(df)} rows\")\n"
   ]
  },
  {
   "cell_type": "code",
   "execution_count": null,
   "id": "1407ccaa-aad2-4050-9073-1db117b6f6ab",
   "metadata": {},
   "outputs": [],
   "source": [
    "# Filter for Qualification 'B.tech'\n",
    "df_filtered = df[df['Qualifications'].str.contains('B.tech', case=False, na=False)]\n",
    "print(f\"After 'Qualification' filter: {len(df_filtered)} rows\")\n",
    "\n",
    "#  Filter for work type 'Full time'\n",
    "df_filtered = df_filtered[df_filtered['Work Type'].str.contains('Full-Time', case=False, na=False)]\n",
    "print(f\"After 'Work Type' filter: {len(df_filtered)} rows\")\n",
    "\n",
    "#  Filter for countries 'India' and 'Germany'\n",
    "df_filtered = df_filtered[df_filtered['Country'].isin(['India', 'Germany'])]\n",
    "print(f\"After 'Country' filter: {len(df_filtered)} rows\")\n",
    "\n",
    "#  Filter for experience more than 2 years\n",
    "df_filtered = df_filtered[df_filtered['Experience'] > 2]\n",
    "print(f\"After 'Experience' filter: {len(df_filtered)} rows\")\n",
    "\n",
    "#  Filter for job titles\n",
    "job_titles = ['Data Scientist', 'Art Teacher', 'Aerospace Engineer']\n",
    "df_filtered = df_filtered[df_filtered['Job Title'].isin(job_titles)]\n",
    "print(f\"After 'Job Title' filter: {len(df_filtered)} rows\")\n",
    "\n",
    "#  Filter for salary range > $10k\n",
    "df_filtered = df_filtered[df_filtered['Salary Range'] > 10000]\n",
    "print(f\"After 'Salary Range' filter: {len(df_filtered)} rows\")\n",
    "\n",
    "#  Filter for job posting date\n",
    "end_date = pd.to_datetime('2023-08-01')\n",
    "df_filtered = df_filtered[df_filtered['Job Posting Date'] < end_date]\n",
    "print(f\"After 'Job Posting Date' filter: {len(df_filtered)} rows\")\n",
    "\n",
    "#  Filter for job portal 'indeed'\n",
    "df_filtered = df_filtered[df_filtered['Job Portal'].str.contains('indeed', case=False, na=False)]\n",
    "#print(f\"After 'Job Portal' filter: {len(df_filtered)} rows\")\n",
    "\n",
    "#  Filter for preference 'Female'\n",
    "df_filtered = df_filtered[df_filtered['Preference'] == 'Female']\n",
    "print(f\"After 'Preference' filter: {len(df_filtered)} rows\")\n"
   ]
  },
  {
   "cell_type": "code",
   "execution_count": null,
   "id": "508c6cfe-ec5e-4bf0-ba8c-46088b58ad5a",
   "metadata": {},
   "outputs": [],
   "source": [
    "output_file = 'task5_filtered_data.csv'\n",
    "df_filtered.to_csv(output_file, index=False)\n",
    "\n",
    "print(f\"Filtered data for Task 5 has been saved to {output_file}\")"
   ]
  }
 ],
 "metadata": {
  "kernelspec": {
   "display_name": "Python 3 (ipykernel)",
   "language": "python",
   "name": "python3"
  },
  "language_info": {
   "codemirror_mode": {
    "name": "ipython",
    "version": 3
   },
   "file_extension": ".py",
   "mimetype": "text/x-python",
   "name": "python",
   "nbconvert_exporter": "python",
   "pygments_lexer": "ipython3",
   "version": "3.13.5"
  }
 },
 "nbformat": 4,
 "nbformat_minor": 5
}
