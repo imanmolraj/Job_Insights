{
 "cells": [
  {
   "cell_type": "code",
   "execution_count": 27,
   "id": "f184a7c1-cbc4-4389-8d37-cec42e152e95",
   "metadata": {},
   "outputs": [],
   "source": [
    "import pandas as pd\n",
    "import numpy as np\n",
    "import re\n",
    "\n",
    "#function to parse the salary string\n",
    "def parse_salary(salary_str):\n",
    "    if not isinstance(salary_str, str):\n",
    "        return np.nan\n",
    "    \n",
    "    salary_str = salary_str.replace('$', '').replace('K', '')\n",
    "    numbers = re.findall(r'\\d+', salary_str)\n",
    "    \n",
    "    if numbers:\n",
    "        return int(numbers[0]) * 1000\n",
    "    return np.nan\n",
    "\n",
    "#function to parse the experience string\n",
    "def parse_experience(experience_str):\n",
    "    if not isinstance(experience_str, str):\n",
    "        return np.nan\n",
    "    \n",
    "    # Extract all numbers from the string\n",
    "    numbers = re.findall(r'\\d+', experience_str)\n",
    "    if numbers:\n",
    "        # Use the first number as the minimum experience\n",
    "        return int(numbers[0])\n",
    "    return np.nan\n"
   ]
  },
  {
   "cell_type": "code",
   "execution_count": 28,
   "id": "eb824e21-3685-41d3-ab4d-d4d9e10d7992",
   "metadata": {},
   "outputs": [],
   "source": [
    "try:\n",
    "    df = pd.read_csv('job_descriptions.csv')\n",
    "except FileNotFoundError:\n",
    "    print(\"Error: The file 'job_descriptions.csv' was not found. Please check the file path.\")\n",
    "    exit()"
   ]
  },
  {
   "cell_type": "code",
   "execution_count": 29,
   "id": "60d51f98-3003-485d-822c-63f95f95c30b",
   "metadata": {},
   "outputs": [],
   "source": [
    "# Apply the parsing functions to the 'Salary Range' and 'Experience' columns\n",
    "df['Salary Range'] = df['Salary Range'].apply(parse_salary)\n",
    "df['Experience'] = df['Experience'].apply(parse_experience)"
   ]
  },
  {
   "cell_type": "code",
   "execution_count": 30,
   "id": "b96ccf04-4efe-48f3-b961-e275780c1aab",
   "metadata": {},
   "outputs": [],
   "source": [
    "# Convert Company Size to numeric and drop NaN values\n",
    "df['Company Size'] = pd.to_numeric(df['Company Size'], errors='coerce')\n",
    "df.dropna(subset=['Experience', 'Salary Range', 'Company Size'], inplace=True)"
   ]
  },
  {
   "cell_type": "code",
   "execution_count": 31,
   "id": "bd04782e-3f3f-4eb9-b2c5-749d5aa971b1",
   "metadata": {},
   "outputs": [],
   "source": [
    "df_filtered = df[\n",
    "    (df['Company Size'] < 50000) &\n",
    "    (df['Job Title'] == 'Mechanical Engineer') &\n",
    "    (df['Experience'] > 5) &\n",
    "    (df['Country'].isin(['China', 'India', 'Japan', 'South Korea', 'Singapore', 'Malaysia', 'Thailand', 'Indonesia', 'Vietnam', 'Philippines'])) &\n",
    "    (df['Salary Range'] > 50000) &\n",
    "    (df['Work Type'].isin(['Part-time', 'Full-time'])) &\n",
    "    (df['Preference'] == 'Male') &\n",
    "    (df['Job Portal'] == 'idealist')\n",
    "]"
   ]
  },
  {
   "cell_type": "code",
   "execution_count": 32,
   "id": "9ae44fae-3a4d-489d-862e-cd56793c2a69",
   "metadata": {},
   "outputs": [
    {
     "name": "stdout",
     "output_type": "stream",
     "text": [
      "Filtered data for Task 2 has been saved to task2_filtered_data.csv\n"
     ]
    }
   ],
   "source": [
    "output_file = 'task2_filtered_data.csv'\n",
    "df_filtered.to_csv(output_file, index=False)\n",
    "\n",
    "print(f\"Filtered data for Task 2 has been saved to {output_file}\")"
   ]
  },
  {
   "cell_type": "code",
   "execution_count": null,
   "id": "e3346251-054f-4c29-8fdb-8e45d807db1c",
   "metadata": {},
   "outputs": [],
   "source": []
  }
 ],
 "metadata": {
  "kernelspec": {
   "display_name": "Python 3 (ipykernel)",
   "language": "python",
   "name": "python3"
  },
  "language_info": {
   "codemirror_mode": {
    "name": "ipython",
    "version": 3
   },
   "file_extension": ".py",
   "mimetype": "text/x-python",
   "name": "python",
   "nbconvert_exporter": "python",
   "pygments_lexer": "ipython3",
   "version": "3.13.5"
  }
 },
 "nbformat": 4,
 "nbformat_minor": 5
}
